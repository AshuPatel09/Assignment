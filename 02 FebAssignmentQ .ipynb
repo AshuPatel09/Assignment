{
 "cells": [
  {
   "cell_type": "markdown",
   "id": "6c4c59a7-d0ca-4e4f-b0c5-65d4772f7527",
   "metadata": {},
   "source": [
    "Answer 1- \n",
    "For loop is used when the number of iterations is already known. While loop is used when the number of iterations is already unknown.\n"
   ]
  },
  {
   "cell_type": "code",
   "execution_count": 1,
   "id": "d9d77bda-b563-4a33-8c39-6291c670ca5c",
   "metadata": {},
   "outputs": [
    {
     "name": "stdout",
     "output_type": "stream",
     "text": [
      "0\n",
      "1\n",
      "2\n",
      "3\n",
      "4\n",
      "5\n",
      "6\n",
      "7\n",
      "8\n",
      "9\n"
     ]
    }
   ],
   "source": [
    "#example\n",
    "for i in range(10):  #here we know that we have 10 iteraion.\n",
    "    print(i)"
   ]
  },
  {
   "cell_type": "code",
   "execution_count": 2,
   "id": "c1f30b01-211f-4104-a00a-3a58d98b48e1",
   "metadata": {},
   "outputs": [
    {
     "name": "stdout",
     "output_type": "stream",
     "text": [
      "10\n",
      "11\n",
      "12\n",
      "13\n",
      "14\n"
     ]
    }
   ],
   "source": [
    "#example\n",
    "i=10\n",
    "while i<15:   #here iteration is unknown\n",
    "    print(i)\n",
    "    i=i+1\n",
    "    "
   ]
  },
  {
   "cell_type": "markdown",
   "id": "b9543e72-f464-423d-ac09-ec4ff85127b5",
   "metadata": {},
   "source": [
    "Answer 2\n"
   ]
  },
  {
   "cell_type": "code",
   "execution_count": 20,
   "id": "a338eaf1-46b7-4463-9c3a-c0cc63a5c034",
   "metadata": {},
   "outputs": [
    {
     "name": "stdout",
     "output_type": "stream",
     "text": [
      "Sum is:  55\n",
      "Product is:  3628800\n"
     ]
    }
   ],
   "source": [
    "#Answer 2 (a) Sum and produt by For Loop\n",
    "sum=0\n",
    "product=1\n",
    "for i in range(1,11):\n",
    "    sum=sum+i\n",
    "    product=product*i\n",
    "print(\"Sum is: \",sum)\n",
    "print(\"Product is: \",product)"
   ]
  },
  {
   "cell_type": "code",
   "execution_count": 21,
   "id": "6112b3ed-4426-471b-b5cf-79bd32a3cbc4",
   "metadata": {},
   "outputs": [
    {
     "name": "stdout",
     "output_type": "stream",
     "text": [
      "Sum is:  55\n",
      "Product is:  3628800\n"
     ]
    }
   ],
   "source": [
    "#Answer 2 (b) Sum and produt by While Loop\n",
    "sum=0\n",
    "product=1\n",
    "i=1\n",
    "while i<=10:\n",
    "    sum=sum+i\n",
    "    product=product*i\n",
    "    i=i+1\n",
    "print(\"Sum is: \",sum)\n",
    "print(\"Product is: \",product)\n",
    "\n"
   ]
  },
  {
   "cell_type": "markdown",
   "id": "4176ad75-9c5a-43c4-a1de-6d29ff7a9d02",
   "metadata": {},
   "source": [
    "Answer 3"
   ]
  },
  {
   "cell_type": "code",
   "execution_count": 19,
   "id": "ad76710f-eefa-4010-9a57-d84d3dcf8ca5",
   "metadata": {},
   "outputs": [
    {
     "name": "stdin",
     "output_type": "stream",
     "text": [
      "Enter Total Unit Consumed 310\n"
     ]
    },
    {
     "name": "stdout",
     "output_type": "stream",
     "text": [
      "Total Bill is:  2250.0\n"
     ]
    }
   ],
   "source": [
    "Unit=int(input(\"Enter Total Unit Consumed\"))\n",
    "if Unit<=100:\n",
    "    print(\"Total Bill is: \",(Unit*4.5))\n",
    "elif Unit<=200:\n",
    "    print(\"Total Bill is: \",100*4.5+(Unit-100)*6)\n",
    "elif Unit<=300:\n",
    "    print(\"Total Bill is: \",(100*4.5+100*6+(Unit-200)*10))\n",
    "else:\n",
    "    print(\"Total Bill is: \",(100*4.5+100*6+100*10+(Unit-300)*20))"
   ]
  },
  {
   "cell_type": "markdown",
   "id": "e771a27e-6f5c-4428-bf74-5b2f0a95cc79",
   "metadata": {},
   "source": [
    "Answer 4"
   ]
  },
  {
   "cell_type": "code",
   "execution_count": null,
   "id": "9e558a79-db5f-4bca-9c23-b79dc0a31155",
   "metadata": {},
   "outputs": [
    {
     "name": "stdout",
     "output_type": "stream",
     "text": [
      "[8, 64, 125, 216, 512, 1000, 1728, 2744, 3375, 4096, 5832, 8000, 10648, 13824, 15625, 17576, 21952, 27000, 32768, 39304, 42875, 46656, 54872, 64000, 74088, 85184, 91125, 97336, 110592, 125000, 140608, 157464, 166375, 175616, 195112, 216000, 238328, 262144, 274625, 287496, 314432, 343000, 373248, 405224, 421875, 438976, 474552, 512000, 551368, 592704, 614125, 636056, 681472, 729000, 778688, 830584, 857375, 884736, 941192, 1000000]\n"
     ]
    }
   ],
   "source": [
    "#by For loop\n",
    "\n",
    "l1=[]\n",
    "l=list(range(1,101,1))\n",
    "for i in l:\n",
    "    if (i**3)%4==0 or (i**3)%5==0:\n",
    "        l1.append(i**3)\n",
    "print(l1)    \n"
   ]
  },
  {
   "cell_type": "code",
   "execution_count": null,
   "id": "721d55f7-0a73-4450-b52f-5801edf799c1",
   "metadata": {},
   "outputs": [],
   "source": [
    "#By While Loop\n",
    "l2=[]\n",
    "i=1\n",
    "while i<=100:\n",
    "    if (i**3)%4==0 or (i**3)%5==0:\n",
    "        l2.append(i**3)\n",
    "        i=i+1\n",
    "print(l2)"
   ]
  },
  {
   "cell_type": "markdown",
   "id": "d40d6f08-d8a6-40f6-b0fc-3cd739e645cf",
   "metadata": {},
   "source": [
    "Answer 5"
   ]
  },
  {
   "cell_type": "code",
   "execution_count": 20,
   "id": "3ad72af8-eae5-4ade-871b-44fb3aed1f64",
   "metadata": {},
   "outputs": [],
   "source": [
    "string= \"I want to become a data scientist\""
   ]
  },
  {
   "cell_type": "code",
   "execution_count": 21,
   "id": "b9f5d6be-42bb-4c01-a775-9e9b6d571ba6",
   "metadata": {},
   "outputs": [
    {
     "name": "stdout",
     "output_type": "stream",
     "text": [
      "12\n"
     ]
    }
   ],
   "source": [
    "sum=0\n",
    "for i in string:\n",
    "    if i in [\"a\",\"e\",\"i\",\"o\",\"u\",\"A\",\"E\",\"I\",\"O\",\"U\"]:\n",
    "        sum=sum + i.count(i)\n",
    "print(sum)\n",
    "\n",
    "    "
   ]
  },
  {
   "cell_type": "code",
   "execution_count": null,
   "id": "56d43e54-6b81-4ee8-b230-38c860ad578b",
   "metadata": {},
   "outputs": [],
   "source": []
  }
 ],
 "metadata": {
  "kernelspec": {
   "display_name": "Python 3 (ipykernel)",
   "language": "python",
   "name": "python3"
  },
  "language_info": {
   "codemirror_mode": {
    "name": "ipython",
    "version": 3
   },
   "file_extension": ".py",
   "mimetype": "text/x-python",
   "name": "python",
   "nbconvert_exporter": "python",
   "pygments_lexer": "ipython3",
   "version": "3.10.8"
  }
 },
 "nbformat": 4,
 "nbformat_minor": 5
}
